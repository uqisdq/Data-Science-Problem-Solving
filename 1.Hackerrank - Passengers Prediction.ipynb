{
 "cells": [
  {
   "cell_type": "code",
   "execution_count": 1,
   "id": "b3b38fc7-c864-496f-8c9e-e286d005589a",
   "metadata": {},
   "outputs": [],
   "source": [
    "#Import packages :\n",
    "import pandas as pd\n",
    "import numpy as np\n",
    "import matplotlib.pyplot as plt\n",
    "import seaborn as sns\n",
    "from sklearn.linear_model import LinearRegression\n",
    "sns.set()"
   ]
  },
  {
   "cell_type": "code",
   "execution_count": 2,
   "id": "de45cf06-c1eb-4aa8-8a10-117e8eb5db95",
   "metadata": {},
   "outputs": [],
   "source": [
    "#Load data to DataFrame, and reformating columns name\n",
    "df = pd.read_csv('input00.txt',sep='\\t').reset_index(drop=True)\n",
    "size = int(df.columns.values)\n",
    "df['MonthNum'] = np.arange(1,61)\n",
    "df.columns = ['Passengers','MonthNum']\n",
    "df = df[['MonthNum','Passengers']]"
   ]
  },
  {
   "cell_type": "code",
   "execution_count": 3,
   "id": "ed21b4b2-c5a2-4da1-8fe0-5167d9cbdde4",
   "metadata": {},
   "outputs": [
    {
     "data": {
      "image/png": "[encoded data removed]",
      "text/plain": [
       "<Figure size 720x288 with 2 Axes>"
      ]
     },
     "metadata": {},
     "output_type": "display_data"
    }
   ],
   "source": [
    "#Creating Inputs and outputs array from DataFrame\n",
    "Inputs, Outputs = df['MonthNum'], df['Passengers']\n",
    "Inputs = Inputs.values.reshape((-1,1))\n",
    "\n",
    "#Plot the data to see if data transformation needed\n",
    "fig, (ax1, ax2) = plt.subplots(1, 2,figsize = (10,4))\n",
    "fig.suptitle('CekData')\n",
    "ax1.scatter(Inputs,Outputs)\n",
    "ax1.set_title('inputs with Outputs')\n",
    "ax2.scatter(Inputs,np.log(Outputs))\n",
    "ax2.set_title('inputs and logged-Outputs')\n",
    "plt.show()"
   ]
  },
  {
   "cell_type": "code",
   "execution_count": 4,
   "id": "3d817abf-b31b-4afd-bb2e-ee7cd59fa782",
   "metadata": {},
   "outputs": [],
   "source": [
    "#from the look of the plot, there is big magnitude gap between Inputs and Outputs \n",
    "#   So, the output will be transformed using Logarithm\n",
    "#(Or can also be using scaler)\n",
    "#   from sklearn import preprocessing as pp\n",
    "#   scaledoutputs = pp.scale(Outputs)\n",
    "LoggedOutputs = np.log(Outputs)"
   ]
  },
  {
   "cell_type": "code",
   "execution_count": 6,
   "id": "6c898756-52c6-41ec-a707-aeb17172c90e",
   "metadata": {},
   "outputs": [
    {
     "data": {
      "text/plain": [
       "LinearRegression()"
      ]
     },
     "execution_count": 6,
     "metadata": {},
     "output_type": "execute_result"
    }
   ],
   "source": [
    "#Modelling - Linear Regression\n",
    "#The data are not splitted into Train and Test data, because their size is just too litle\n",
    "model = LinearRegression()\n",
    "model.fit(Inputs,LoggedOutputs)"
   ]
  },
  {
   "cell_type": "code",
   "execution_count": 7,
   "id": "afcdf47c-3d2d-4810-81c9-6afccd2b816a",
   "metadata": {},
   "outputs": [
    {
     "data": {
      "text/plain": [
       "0.03827948032110906"
      ]
     },
     "execution_count": 7,
     "metadata": {},
     "output_type": "execute_result"
    }
   ],
   "source": [
    "#RSquared :\n",
    "model.score(Inputs,LoggedOutputs)\n",
    "#RSquared = 0.03827948032110906"
   ]
  },
  {
   "cell_type": "code",
   "execution_count": 8,
   "id": "9015f407-c24a-4e5d-8635-b4a46c17a0ae",
   "metadata": {},
   "outputs": [
    {
     "name": "stdout",
     "output_type": "stream",
     "text": [
      "Training Accuracy = 98.56046054186207 %\n"
     ]
    }
   ],
   "source": [
    "#Calculating Regression Accuracy\n",
    "LoggedOutputs2 = LoggedOutputs.values.reshape((-1,1))\n",
    "YHat = model.predict(LoggedOutputs2)\n",
    "TrainingAccuracy = np.average((100-(((np.absolute(YHat-LoggedOutputs))/LoggedOutputs)*100)))\n",
    "print('Training Accuracy =',TrainingAccuracy,'%')\n",
    "#Training Accuracy = 98.56046054186207 %"
   ]
  },
  {
   "cell_type": "code",
   "execution_count": 21,
   "id": "8bf696e6-f1c0-454b-9810-bd5302a32ef8",
   "metadata": {},
   "outputs": [],
   "source": [
    "#Creating Array containing Inputs to be predicted, which are the 61st to 73rd Months\n",
    "MonthToPredict = np.array([i for i in range(61,73)]).reshape((-1,1))\n",
    "\n",
    "#Prediction\n",
    "Passengers_2_Weeks_In_Advance = np.exp(model.predict(MonthToPredict)).round(0)"
   ]
  },
  {
   "cell_type": "code",
   "execution_count": 24,
   "id": "66be1f93-81c5-47ec-a4e0-706ecf9c91e6",
   "metadata": {},
   "outputs": [
    {
     "data": {
      "text/html": [
       "<div>\n",
       "<style scoped>\n",
       "    .dataframe tbody tr th:only-of-type {\n",
       "        vertical-align: middle;\n",
       "    }\n",
       "\n",
       "    .dataframe tbody tr th {\n",
       "        vertical-align: top;\n",
       "    }\n",
       "\n",
       "    .dataframe thead th {\n",
       "        text-align: right;\n",
       "    }\n",
       "</style>\n",
       "<table border=\"1\" class=\"dataframe\">\n",
       "  <thead>\n",
       "    <tr style=\"text-align: right;\">\n",
       "      <th></th>\n",
       "      <th>NumOfPassengers</th>\n",
       "    </tr>\n",
       "  </thead>\n",
       "  <tbody>\n",
       "    <tr>\n",
       "      <th>0</th>\n",
       "      <td>866060.0</td>\n",
       "    </tr>\n",
       "    <tr>\n",
       "      <th>1</th>\n",
       "      <td>863671.0</td>\n",
       "    </tr>\n",
       "    <tr>\n",
       "      <th>2</th>\n",
       "      <td>861289.0</td>\n",
       "    </tr>\n",
       "    <tr>\n",
       "      <th>3</th>\n",
       "      <td>858913.0</td>\n",
       "    </tr>\n",
       "    <tr>\n",
       "      <th>4</th>\n",
       "      <td>856544.0</td>\n",
       "    </tr>\n",
       "    <tr>\n",
       "      <th>5</th>\n",
       "      <td>854181.0</td>\n",
       "    </tr>\n",
       "    <tr>\n",
       "      <th>6</th>\n",
       "      <td>851825.0</td>\n",
       "    </tr>\n",
       "    <tr>\n",
       "      <th>7</th>\n",
       "      <td>849475.0</td>\n",
       "    </tr>\n",
       "    <tr>\n",
       "      <th>8</th>\n",
       "      <td>847132.0</td>\n",
       "    </tr>\n",
       "    <tr>\n",
       "      <th>9</th>\n",
       "      <td>844795.0</td>\n",
       "    </tr>\n",
       "    <tr>\n",
       "      <th>10</th>\n",
       "      <td>842465.0</td>\n",
       "    </tr>\n",
       "    <tr>\n",
       "      <th>11</th>\n",
       "      <td>840141.0</td>\n",
       "    </tr>\n",
       "  </tbody>\n",
       "</table>\n",
       "</div>"
      ],
      "text/plain": [
       "    NumOfPassengers\n",
       "0          866060.0\n",
       "1          863671.0\n",
       "2          861289.0\n",
       "3          858913.0\n",
       "4          856544.0\n",
       "5          854181.0\n",
       "6          851825.0\n",
       "7          849475.0\n",
       "8          847132.0\n",
       "9          844795.0\n",
       "10         842465.0\n",
       "11         840141.0"
      ]
     },
     "execution_count": 24,
     "metadata": {},
     "output_type": "execute_result"
    }
   ],
   "source": [
    "PredictedPassengers = pd.DataFrame()\n",
    "PredictedPassengers['NumOfPassengers'] = Passengers_2_Weeks_In_Advance\n",
    "PredictedPassengers"
   ]
  },
  {
   "cell_type": "code",
   "execution_count": 10,
   "id": "aedff531-c90d-4418-8153-4007475a0d5d",
   "metadata": {},
   "outputs": [
    {
     "data": {
      "text/plain": [
       "<matplotlib.legend.Legend at 0x282d0d54ac0>"
      ]
     },
     "execution_count": 10,
     "metadata": {},
     "output_type": "execute_result"
    },
    {
     "data": {
      "image/png": "[encoded data removed]",
      "text/plain": [
       "<Figure size 432x288 with 1 Axes>"
      ]
     },
     "metadata": {},
     "output_type": "display_data"
    }
   ],
   "source": [
    "#Plot the data with prediction trend\n",
    "plt.scatter(MonthToPredict,np.log(Passengers_2_Weeks_In_Advance),label='DataPrediksi')\n",
    "plt.scatter(Inputs, np.log(Outputs), label = 'DataAwal')\n",
    "plt.xlabel('Months')\n",
    "plt.ylabel('logged-NumOfPassengers')\n",
    "plt.ylim(12,15)\n",
    "plt.legend()"
   ]
  },
  {
   "cell_type": "code",
   "execution_count": null,
   "id": "f8c1e7e0-ae76-4e9a-9814-558a28d152bf",
   "metadata": {},
   "outputs": [],
   "source": []
  }
 ],
 "metadata": {
  "kernelspec": {
   "display_name": "Python 3",
   "language": "python",
   "name": "python3"
  },
  "language_info": {
   "codemirror_mode": {
    "name": "ipython",
    "version": 3
   },
   "file_extension": ".py",
   "mimetype": "text/x-python",
   "name": "python",
   "nbconvert_exporter": "python",
   "pygments_lexer": "ipython3",
   "version": "3.9.2"
  }
 },
 "nbformat": 4,
 "nbformat_minor": 5
}
