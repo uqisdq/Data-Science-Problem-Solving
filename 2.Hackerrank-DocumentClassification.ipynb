{
 "cells": [
  {
   "cell_type": "code",
   "execution_count": 1,
   "id": "f84426eb-9655-4148-b9f5-2df5b0e5ef0e",
   "metadata": {},
   "outputs": [],
   "source": [
    "#import numpy as np\n",
    "from sklearn.feature_extraction.text import CountVectorizer\n",
    "from sklearn.linear_model import SGDClassifier"
   ]
  },
  {
   "cell_type": "code",
   "execution_count": 2,
   "id": "98ef98f4-2270-4c56-b5ef-a16ce7140587",
   "metadata": {},
   "outputs": [],
   "source": [
    "with open('trainingdata.txt', 'r') as rawdata:\n",
    "    NWords = int(rawdata.readline())\n",
    "    #X = np.zeros(NWords, dtype=np.object)\n",
    "    #Y = np.zeros(NWords, dtype=np.int)\n",
    "    X = []\n",
    "    Y = []\n",
    "    for i, line in enumerate(rawdata):\n",
    "        indx = line.index(' ')\n",
    "        if indx == -1:\n",
    "            raise ValueError('invalid input file')\n",
    "        classes = int(line[:indx])\n",
    "        words = line[indx+1:]\n",
    "        X.append(words)\n",
    "        Y.append(classes)"
   ]
  },
  {
   "cell_type": "code",
   "execution_count": null,
   "id": "f65d2e3a-25ec-45ca-9e6b-efd2e52b8a0a",
   "metadata": {},
   "outputs": [],
   "source": []
  },
  {
   "cell_type": "code",
   "execution_count": 3,
   "id": "3974bbf6-96b8-45b2-9d33-049120062afa",
   "metadata": {},
   "outputs": [
    {
     "name": "stdin",
     "output_type": "stream",
     "text": [
      "Insert T Number (int) :  3\n",
      " This is a document\n",
      " this is another document\n",
      " documents are separated by newlines\n"
     ]
    },
    {
     "name": "stdout",
     "output_type": "stream",
     "text": [
      "[\n",
      "2\n",
      " \n",
      "2\n",
      " \n",
      "2\n",
      "]\n"
     ]
    }
   ],
   "source": [
    "TNumber = int(input('Insert T Number (int) : '))\n",
    "WordsToPredict = []\n",
    "for _ in range(TNumber):\n",
    "    WordsToPredict.append(input())\n",
    "\n",
    "vectorizer = CountVectorizer()\n",
    "X_train = vectorizer.fit_transform(X)\n",
    "X_test = vectorizer.transform(WordsToPredict)\n",
    "\n",
    "model = SGDClassifier(alpha=1e-3)\n",
    "model.fit(X_train, Y)\n",
    "\n",
    "print('\\n'.join(str(model.predict(X_test))))"
   ]
  },
  {
   "cell_type": "code",
   "execution_count": 13,
   "id": "59489248-9725-449a-811d-ffa235d44bbc",
   "metadata": {},
   "outputs": [
    {
     "data": {
      "text/plain": [
       "2"
      ]
     },
     "execution_count": 13,
     "metadata": {},
     "output_type": "execute_result"
    }
   ],
   "source": [
    "X_test.shape[0]"
   ]
  },
  {
   "cell_type": "code",
   "execution_count": null,
   "id": "21c1b029-3162-4052-8816-bedd29a2fc32",
   "metadata": {},
   "outputs": [],
   "source": []
  },
  {
   "cell_type": "code",
   "execution_count": null,
   "id": "efdf929c-4b9e-43ab-bcf9-22c79c5e29c7",
   "metadata": {},
   "outputs": [],
   "source": []
  },
  {
   "cell_type": "code",
   "execution_count": null,
   "id": "bea07eae-26ec-46fa-9410-76e4cafa4a81",
   "metadata": {},
   "outputs": [],
   "source": []
  }
 ],
 "metadata": {
  "kernelspec": {
   "display_name": "Python 3",
   "language": "python",
   "name": "python3"
  },
  "language_info": {
   "codemirror_mode": {
    "name": "ipython",
    "version": 3
   },
   "file_extension": ".py",
   "mimetype": "text/x-python",
   "name": "python",
   "nbconvert_exporter": "python",
   "pygments_lexer": "ipython3",
   "version": "3.9.2"
  }
 },
 "nbformat": 4,
 "nbformat_minor": 5
}
