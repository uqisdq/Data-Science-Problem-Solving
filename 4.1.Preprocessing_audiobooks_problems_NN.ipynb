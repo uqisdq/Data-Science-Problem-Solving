{
 "cells": [
  {
   "cell_type": "code",
   "execution_count": 1,
   "id": "1f08c48d-4d95-44c0-b77c-4be335141189",
   "metadata": {},
   "outputs": [],
   "source": [
    "#Import Packages\n",
    "import numpy as np\n",
    "from sklearn import preprocessing as pp"
   ]
  },
  {
   "cell_type": "code",
   "execution_count": 22,
   "id": "1a7c5262-0114-45ad-b55a-bd11d4c9b367",
   "metadata": {},
   "outputs": [
    {
     "name": "stdout",
     "output_type": "stream",
     "text": [
      "unqiue & counts : {0.0: 11847, 1.0: 2237}\n",
      "Ukuran inputs : (14084, 10)\n",
      "Ukuran targets : (14084,)\n"
     ]
    }
   ],
   "source": [
    "#Import Data, and check the balance of targets\n",
    "rawcsv=np.loadtxt('Audiobooks_data.csv', delimiter=',')\n",
    "unscalleddata=rawcsv[:,1:-1]\n",
    "alltargets=rawcsv[:,-1]\n",
    "unique,counts = np.unique(alltargets, return_counts=True)\n",
    "print('unqiue & counts :',dict(zip(unique,counts)))\n",
    "print('Ukuran inputs :',unscalleddata.shape)\n",
    "print('Ukuran targets :',alltargets.shape)"
   ]
  },
  {
   "cell_type": "code",
   "execution_count": 17,
   "id": "5176153e-bcdd-4efa-81be-7ba37c934e60",
   "metadata": {},
   "outputs": [],
   "source": [
    "#balancingthedatasets\n",
    "#14084 number of data, with 2237 having targets 1, and the rest having target 0, and it is really unballance\n",
    "num_one_targets = int(np.sum(alltargets))\n",
    "zero_targets_counter = 0\n",
    "indices_to_remove= []\n",
    "\n",
    "for i in range(alltargets.shape[0]):\n",
    "    if alltargets[i] ==0:\n",
    "        zero_targets_counter +=1\n",
    "        if zero_targets_counter > num_one_targets:\n",
    "            indices_to_remove.append(i)\n",
    "            \n",
    "unscalled_but_balanced_priors = np.delete(unscalleddata, indices_to_remove, axis=0)\n",
    "target_balanced_priors = np.delete(alltargets, indices_to_remove, axis=0)"
   ]
  },
  {
   "cell_type": "code",
   "execution_count": 20,
   "id": "99b6b9af-f5c6-4587-a128-e19b50201ec0",
   "metadata": {},
   "outputs": [
    {
     "data": {
      "text/plain": [
       "(4474,)"
      ]
     },
     "execution_count": 20,
     "metadata": {},
     "output_type": "execute_result"
    }
   ],
   "source": [
    "target_balanced_priors.shape"
   ]
  },
  {
   "cell_type": "code",
   "execution_count": 12,
   "id": "642b5c75-f2bc-43ec-9910-90d5a7540346",
   "metadata": {},
   "outputs": [],
   "source": [
    "#Standardize the inputs\n",
    "scaleddata = pp.scale(unscalled_but_balanced_priors)"
   ]
  },
  {
   "cell_type": "code",
   "execution_count": 13,
   "id": "a1fd8358-8ce6-4bc4-b5f3-66c6ea78b8ed",
   "metadata": {},
   "outputs": [],
   "source": [
    "#Shuffle the data\n",
    "#Create array containing shuffled integer with the shape of scalleddata\n",
    "shuffler_indices = np.arange(scaleddata.shape[0])\n",
    "np.random.shuffle(shuffler_indices)\n",
    "\n",
    "shuffledinputs = scaleddata[shuffler_indices]\n",
    "shuffledtargets = target_balanced_priors[shuffler_indices]"
   ]
  },
  {
   "cell_type": "code",
   "execution_count": 18,
   "id": "28719eb9-cffd-48a3-ba92-f1c2e8ec8c35",
   "metadata": {},
   "outputs": [],
   "source": [
    "#train validation test split\n",
    "samples_count = shuffledinputs.shape[0]\n",
    "\n",
    "trainsamplescount = int(0.8*samples_count)\n",
    "validationsamplescount = int(0.1*samples_count)\n",
    "testsamplescount = samples_count - trainsamplescount - validationsamplescount\n",
    "\n",
    "traininputs = shuffledinputs[:trainsamplescount]\n",
    "traintargets = shuffledtargets[:trainsamplescount]\n",
    "\n",
    "validationinputs = shuffledinputs[trainsamplescount:trainsamplescount + validationsamplescount]\n",
    "validationtargets = shuffledtargets[trainsamplescount:trainsamplescount + validationsamplescount]\n",
    "\n",
    "testinputs = shuffledinputs[trainsamplescount+validationsamplescount:]\n",
    "testtargets = shuffledtargets[trainsamplescount+validationsamplescount:]"
   ]
  },
  {
   "cell_type": "code",
   "execution_count": 19,
   "id": "193bd12c-bfbc-40bb-b143-41c49511e22e",
   "metadata": {},
   "outputs": [],
   "source": [
    "#saving as npz\n",
    "\n",
    "np.savez('audibooks_data_train', inputs=traininputs, targets=traintargets)\n",
    "np.savez('audibooks_data_validation', inputs=validationinputs, targets=validationtargets)\n",
    "np.savez('audibooks_data_test', inputs=testinputs, targets=testtargets)"
   ]
  },
  {
   "cell_type": "code",
   "execution_count": 23,
   "id": "aadb168f-cef7-465f-b68c-bd62debfd081",
   "metadata": {},
   "outputs": [
    {
     "data": {
      "text/plain": [
       "(14084, 12)"
      ]
     },
     "execution_count": 23,
     "metadata": {},
     "output_type": "execute_result"
    }
   ],
   "source": [
    "rawcsv.shape"
   ]
  },
  {
   "cell_type": "code",
   "execution_count": null,
   "id": "56a26d75-6311-433a-82bb-8f7e03ead2e0",
   "metadata": {},
   "outputs": [],
   "source": []
  }
 ],
 "metadata": {
  "kernelspec": {
   "display_name": "Python 3",
   "language": "python",
   "name": "python3"
  },
  "language_info": {
   "codemirror_mode": {
    "name": "ipython",
    "version": 3
   },
   "file_extension": ".py",
   "mimetype": "text/x-python",
   "name": "python",
   "nbconvert_exporter": "python",
   "pygments_lexer": "ipython3",
   "version": "3.9.2"
  }
 },
 "nbformat": 4,
 "nbformat_minor": 5
}
