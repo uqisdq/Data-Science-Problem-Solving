{
 "cells": [
  {
   "cell_type": "code",
   "execution_count": 1,
   "id": "972437ae-6bb1-4ab1-ad74-d29861222d7c",
   "metadata": {},
   "outputs": [],
   "source": [
    "import numpy as np\n",
    "import tensorflow as tf"
   ]
  },
  {
   "cell_type": "code",
   "execution_count": 2,
   "id": "824c1fc0-0d6b-4bc9-986c-279cb6d3297d",
   "metadata": {},
   "outputs": [],
   "source": [
    "npz = np.load('audibooks_data_train.npz')\n",
    "traininputs, traintargets = npz['inputs'].astype(np.float), npz['targets'].astype(np.int)\n",
    "\n",
    "npz = np.load('audibooks_data_validation.npz')\n",
    "validationinputs, validationtargets = npz['inputs'].astype(np.float), npz['targets'].astype(np.int)\n",
    "\n",
    "npz = np.load('audibooks_data_test.npz')\n",
    "testinputs, testtargets = npz['inputs'].astype(np.float), npz['targets'].astype(np.int)"
   ]
  },
  {
   "cell_type": "code",
   "execution_count": 3,
   "id": "36db8697-3837-4544-9b48-5e8926ae7836",
   "metadata": {},
   "outputs": [
    {
     "name": "stdout",
     "output_type": "stream",
     "text": [
      "Epoch 1/100\n",
      "36/36 - 2s - loss: 0.5642 - accuracy: 0.7622 - val_loss: 0.4040 - val_accuracy: 0.8859\n",
      "Epoch 2/100\n",
      "36/36 - 0s - loss: 0.3688 - accuracy: 0.8706 - val_loss: 0.2923 - val_accuracy: 0.8881\n",
      "Epoch 3/100\n",
      "36/36 - 0s - loss: 0.3190 - accuracy: 0.8799 - val_loss: 0.2736 - val_accuracy: 0.8926\n",
      "Epoch 4/100\n",
      "36/36 - 0s - loss: 0.3007 - accuracy: 0.8880 - val_loss: 0.2667 - val_accuracy: 0.8993\n",
      "Epoch 5/100\n",
      "36/36 - 0s - loss: 0.2877 - accuracy: 0.8927 - val_loss: 0.2611 - val_accuracy: 0.9016\n",
      "Epoch 6/100\n",
      "36/36 - 0s - loss: 0.2780 - accuracy: 0.8963 - val_loss: 0.2550 - val_accuracy: 0.9038\n",
      "Epoch 7/100\n",
      "36/36 - 0s - loss: 0.2702 - accuracy: 0.8986 - val_loss: 0.2515 - val_accuracy: 0.9060\n",
      "Epoch 8/100\n",
      "36/36 - 0s - loss: 0.2651 - accuracy: 0.9000 - val_loss: 0.2505 - val_accuracy: 0.9060\n",
      "Epoch 9/100\n",
      "36/36 - 0s - loss: 0.2601 - accuracy: 0.9005 - val_loss: 0.2482 - val_accuracy: 0.9128\n",
      "Epoch 10/100\n",
      "36/36 - 0s - loss: 0.2556 - accuracy: 0.9036 - val_loss: 0.2422 - val_accuracy: 0.9105\n",
      "Epoch 11/100\n",
      "36/36 - 0s - loss: 0.2519 - accuracy: 0.9056 - val_loss: 0.2472 - val_accuracy: 0.9083\n",
      "Epoch 12/100\n",
      "36/36 - 0s - loss: 0.2491 - accuracy: 0.9050 - val_loss: 0.2423 - val_accuracy: 0.9128\n",
      "Epoch 13/100\n",
      "36/36 - 0s - loss: 0.2502 - accuracy: 0.9036 - val_loss: 0.2410 - val_accuracy: 0.9083\n",
      "Epoch 14/100\n",
      "36/36 - 0s - loss: 0.2461 - accuracy: 0.9072 - val_loss: 0.2375 - val_accuracy: 0.9128\n",
      "Epoch 15/100\n",
      "36/36 - 0s - loss: 0.2436 - accuracy: 0.9072 - val_loss: 0.2477 - val_accuracy: 0.9172\n",
      "Epoch 16/100\n",
      "36/36 - 0s - loss: 0.2430 - accuracy: 0.9067 - val_loss: 0.2447 - val_accuracy: 0.9150\n",
      "Epoch 17/100\n",
      "36/36 - 0s - loss: 0.2398 - accuracy: 0.9109 - val_loss: 0.2409 - val_accuracy: 0.9128\n"
     ]
    },
    {
     "data": {
      "text/plain": [
       "<tensorflow.python.keras.callbacks.History at 0x17e8a891850>"
      ]
     },
     "execution_count": 3,
     "metadata": {},
     "output_type": "execute_result"
    }
   ],
   "source": [
    "inputsize = 10\n",
    "outputsize = 2\n",
    "hiddenlayersize = 50\n",
    "\n",
    "model = tf.keras.Sequential([\n",
    "                            tf.keras.layers.Dense(hiddenlayersize, activation = 'relu'), \n",
    "                            tf.keras.layers.Dense(hiddenlayersize, activation = 'relu'), \n",
    "                            tf.keras.layers.Dense(outputsize, activation = 'softmax') \n",
    "                            ])\n",
    "model.compile(optimizer='adam',loss='sparse_categorical_crossentropy',metrics='accuracy')\n",
    "\n",
    "nepochs = 100\n",
    "nbatches = 100\n",
    "#early stopping to stop the learning when the quality considered worsened\n",
    "earlystopping = tf.keras.callbacks.EarlyStopping(patience = 3)\n",
    "#patience determine how many validation accuracy rise we can tolerate\n",
    "\n",
    "model.fit(traininputs,traintargets,batch_size=nbatches,\n",
    "          epochs=nepochs,callbacks=[earlystopping],\n",
    "          validation_data=(validationinputs,validationtargets),\n",
    "          verbose=2)"
   ]
  },
  {
   "cell_type": "code",
   "execution_count": 4,
   "id": "3c097a70-bb6b-4cba-8b8b-4924a14279df",
   "metadata": {},
   "outputs": [
    {
     "name": "stdout",
     "output_type": "stream",
     "text": [
      "14/14 [==============================] - 0s 3ms/step - loss: 0.2375 - accuracy: 0.9129\n"
     ]
    }
   ],
   "source": [
    "test_loss, test_accuracy = model.evaluate(testinputs,testtargets)"
   ]
  },
  {
   "cell_type": "code",
   "execution_count": 5,
   "id": "d2efd114-882e-4217-a678-0a6e3e8e51dd",
   "metadata": {},
   "outputs": [],
   "source": [
    "#YHat = PredictedTestTargets\n",
    "YHat = model.predict(testinputs)"
   ]
  },
  {
   "cell_type": "code",
   "execution_count": 6,
   "id": "56546525-e554-42ea-9b82-040c529f19a4",
   "metadata": {},
   "outputs": [],
   "source": [
    "import pandas as pd\n",
    "YHatDF = pd.DataFrame(YHat)"
   ]
  },
  {
   "cell_type": "code",
   "execution_count": 7,
   "id": "a4fb01b6-c908-4b4c-a2d2-f34acc96b467",
   "metadata": {},
   "outputs": [],
   "source": [
    "YHatDF['YHatTest'] = YHatDF[0]"
   ]
  },
  {
   "cell_type": "code",
   "execution_count": 8,
   "id": "724598ce-3e85-4d36-a97e-9a40b979bdd1",
   "metadata": {},
   "outputs": [],
   "source": [
    "YHatDF.loc[YHatDF[0] > YHatDF[1],'YHatTest'] = 0\n",
    "YHatDF.loc[YHatDF[0] < YHatDF[1],'YHatTest'] = 1"
   ]
  },
  {
   "cell_type": "code",
   "execution_count": 9,
   "id": "f04d19e0-efce-43d7-b712-a1ecac31733a",
   "metadata": {},
   "outputs": [
    {
     "data": {
      "text/html": [
       "<div>\n",
       "<style scoped>\n",
       "    .dataframe tbody tr th:only-of-type {\n",
       "        vertical-align: middle;\n",
       "    }\n",
       "\n",
       "    .dataframe tbody tr th {\n",
       "        vertical-align: top;\n",
       "    }\n",
       "\n",
       "    .dataframe thead th {\n",
       "        text-align: right;\n",
       "    }\n",
       "</style>\n",
       "<table border=\"1\" class=\"dataframe\">\n",
       "  <thead>\n",
       "    <tr style=\"text-align: right;\">\n",
       "      <th></th>\n",
       "      <th>Probability of 0</th>\n",
       "      <th>Probability of 1</th>\n",
       "      <th>YHatTest</th>\n",
       "      <th>Actual Value</th>\n",
       "    </tr>\n",
       "  </thead>\n",
       "  <tbody>\n",
       "    <tr>\n",
       "      <th>0</th>\n",
       "      <td>0.777042</td>\n",
       "      <td>0.222958</td>\n",
       "      <td>0.0</td>\n",
       "      <td>0</td>\n",
       "    </tr>\n",
       "    <tr>\n",
       "      <th>1</th>\n",
       "      <td>0.002022</td>\n",
       "      <td>0.997978</td>\n",
       "      <td>1.0</td>\n",
       "      <td>1</td>\n",
       "    </tr>\n",
       "    <tr>\n",
       "      <th>2</th>\n",
       "      <td>0.282992</td>\n",
       "      <td>0.717008</td>\n",
       "      <td>1.0</td>\n",
       "      <td>1</td>\n",
       "    </tr>\n",
       "    <tr>\n",
       "      <th>3</th>\n",
       "      <td>0.022297</td>\n",
       "      <td>0.977703</td>\n",
       "      <td>1.0</td>\n",
       "      <td>1</td>\n",
       "    </tr>\n",
       "    <tr>\n",
       "      <th>4</th>\n",
       "      <td>0.635221</td>\n",
       "      <td>0.364779</td>\n",
       "      <td>0.0</td>\n",
       "      <td>1</td>\n",
       "    </tr>\n",
       "  </tbody>\n",
       "</table>\n",
       "</div>"
      ],
      "text/plain": [
       "   Probability of 0  Probability of 1  YHatTest  Actual Value\n",
       "0          0.777042          0.222958       0.0             0\n",
       "1          0.002022          0.997978       1.0             1\n",
       "2          0.282992          0.717008       1.0             1\n",
       "3          0.022297          0.977703       1.0             1\n",
       "4          0.635221          0.364779       0.0             1"
      ]
     },
     "execution_count": 9,
     "metadata": {},
     "output_type": "execute_result"
    }
   ],
   "source": [
    "YHatDF.columns = ['Probability of 0',\n",
    "                  'Probability of 1', \n",
    "                  'YHatTest']\n",
    "YHatDF['Actual Value'] = testtargets\n",
    "YHatDF.head(5)"
   ]
  },
  {
   "cell_type": "code",
   "execution_count": 10,
   "id": "f1834e61-3356-464e-95b6-d1580a0a018b",
   "metadata": {},
   "outputs": [
    {
     "data": {
      "text/html": [
       "<div>\n",
       "<style scoped>\n",
       "    .dataframe tbody tr th:only-of-type {\n",
       "        vertical-align: middle;\n",
       "    }\n",
       "\n",
       "    .dataframe tbody tr th {\n",
       "        vertical-align: top;\n",
       "    }\n",
       "\n",
       "    .dataframe thead th {\n",
       "        text-align: right;\n",
       "    }\n",
       "</style>\n",
       "<table border=\"1\" class=\"dataframe\">\n",
       "  <thead>\n",
       "    <tr style=\"text-align: right;\">\n",
       "      <th></th>\n",
       "      <th>Probability of 0</th>\n",
       "      <th>Probability of 1</th>\n",
       "      <th>YHatTest</th>\n",
       "      <th>Actual Value</th>\n",
       "    </tr>\n",
       "  </thead>\n",
       "  <tbody>\n",
       "    <tr>\n",
       "      <th>0</th>\n",
       "      <td>0.777042</td>\n",
       "      <td>0.222958</td>\n",
       "      <td>0.0</td>\n",
       "      <td>0</td>\n",
       "    </tr>\n",
       "    <tr>\n",
       "      <th>1</th>\n",
       "      <td>0.002022</td>\n",
       "      <td>0.997978</td>\n",
       "      <td>1.0</td>\n",
       "      <td>1</td>\n",
       "    </tr>\n",
       "    <tr>\n",
       "      <th>2</th>\n",
       "      <td>0.282992</td>\n",
       "      <td>0.717008</td>\n",
       "      <td>1.0</td>\n",
       "      <td>1</td>\n",
       "    </tr>\n",
       "    <tr>\n",
       "      <th>3</th>\n",
       "      <td>0.022297</td>\n",
       "      <td>0.977703</td>\n",
       "      <td>1.0</td>\n",
       "      <td>1</td>\n",
       "    </tr>\n",
       "    <tr>\n",
       "      <th>4</th>\n",
       "      <td>0.635221</td>\n",
       "      <td>0.364779</td>\n",
       "      <td>0.0</td>\n",
       "      <td>1</td>\n",
       "    </tr>\n",
       "  </tbody>\n",
       "</table>\n",
       "</div>"
      ],
      "text/plain": [
       "   Probability of 0  Probability of 1  YHatTest  Actual Value\n",
       "0          0.777042          0.222958       0.0             0\n",
       "1          0.002022          0.997978       1.0             1\n",
       "2          0.282992          0.717008       1.0             1\n",
       "3          0.022297          0.977703       1.0             1\n",
       "4          0.635221          0.364779       0.0             1"
      ]
     },
     "execution_count": 10,
     "metadata": {},
     "output_type": "execute_result"
    }
   ],
   "source": [
    "YHatDF.head(5)"
   ]
  },
  {
   "cell_type": "code",
   "execution_count": 14,
   "id": "dc670870-0725-4539-abf5-f319c6b02b3a",
   "metadata": {},
   "outputs": [
    {
     "name": "stdout",
     "output_type": "stream",
     "text": [
      "WARNING:tensorflow:FOR KERAS USERS: The object that you are saving contains one or more Keras models or layers. If you are loading the SavedModel with `tf.keras.models.load_model`, continue reading (otherwise, you may ignore the following instructions). Please change your code to save with `tf.keras.models.save_model` or `model.save`, and confirm that the file \"keras.metadata\" exists in the export directory. In the future, Keras will only load the SavedModels that have this file. In other words, `tf.saved_model.save` will no longer write SavedModels that can be recovered as Keras models (this will apply in TF 2.5).\n",
      "\n",
      "FOR DEVS: If you are overwriting _tracking_metadata in your class, this property has been used to save metadata in the SavedModel. The metadta field will be deprecated soon, so please move the metadata to a different file.\n",
      "INFO:tensorflow:Assets written to: C:/Users/Rifqi/Documents/Data Science Penting\\assets\n"
     ]
    }
   ],
   "source": [
    "tf.saved_model.save(\n",
    "    model, 'C:/Users/Rifqi/Documents/Data Science Penting')"
   ]
  },
  {
   "cell_type": "code",
   "execution_count": 18,
   "id": "587d9677-5c28-49e9-8fb1-843628a85905",
   "metadata": {},
   "outputs": [
    {
     "name": "stdout",
     "output_type": "stream",
     "text": [
      "INFO:tensorflow:Assets written to: C:/Users/Rifqi/Documents/Data Science Penting\\assets\n"
     ]
    }
   ],
   "source": [
    "tf.keras.models.save_model(\n",
    "    model, 'C:/Users/Rifqi/Documents/Data Science Penting')"
   ]
  },
  {
   "cell_type": "code",
   "execution_count": null,
   "id": "bcc1f2c7-5e29-47c0-ab88-ebafabf659e6",
   "metadata": {},
   "outputs": [],
   "source": []
  }
 ],
 "metadata": {
  "kernelspec": {
   "display_name": "Python 3",
   "language": "python",
   "name": "python3"
  },
  "language_info": {
   "codemirror_mode": {
    "name": "ipython",
    "version": 3
   },
   "file_extension": ".py",
   "mimetype": "text/x-python",
   "name": "python",
   "nbconvert_exporter": "python",
   "pygments_lexer": "ipython3",
   "version": "3.9.2"
  }
 },
 "nbformat": 4,
 "nbformat_minor": 5
}
